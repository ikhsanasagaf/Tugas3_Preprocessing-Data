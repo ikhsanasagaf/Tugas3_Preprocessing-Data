{
 "cells": [
  {
   "cell_type": "code",
   "execution_count": 159,
   "id": "3d79c50e-73d6-4571-87ed-42ccc7911b3f",
   "metadata": {},
   "outputs": [],
   "source": [
    "import numpy as np\n",
    "import matplotlib.pyplot as plt\n",
    "import pandas as pd"
   ]
  },
  {
   "cell_type": "code",
   "execution_count": 160,
   "id": "80c051aa-dde7-4b59-8ff2-599c88373fc1",
   "metadata": {},
   "outputs": [],
   "source": [
    "dataset = pd.read_csv('datasetPreprocessing.csv')\n",
    "x = dataset.iloc[:,:-1].values\n",
    "y = dataset.iloc[:,-1].values"
   ]
  },
  {
   "cell_type": "code",
   "execution_count": 161,
   "id": "0935f287-501b-4e96-9fbb-ed7c0d7e51f3",
   "metadata": {},
   "outputs": [
    {
     "name": "stdout",
     "output_type": "stream",
     "text": [
      "[['France' 44.0 72000.0]\n",
      " ['Spain' 27.0 48000.0]\n",
      " ['Germany' 30.0 54000.0]\n",
      " ['Spain' 38.0 61000.0]\n",
      " ['Germany' 40.0 nan]\n",
      " ['France' 35.0 58000.0]\n",
      " ['Spain' nan 52000.0]\n",
      " ['France' 48.0 79000.0]\n",
      " ['Germany' 50.0 83000.0]\n",
      " ['France' 37.0 67000.0]\n",
      " ['Indonesia' 20.0 50000.0]\n",
      " ['France' 22.0 45000.0]\n",
      " ['Indonesia' 45.0 21400.0]\n",
      " ['Indonesia' 29.0 40000.0]]\n"
     ]
    }
   ],
   "source": [
    "print(x)"
   ]
  },
  {
   "cell_type": "code",
   "execution_count": 162,
   "id": "7eda8772-5b47-43ee-bff3-da0952bd23ae",
   "metadata": {},
   "outputs": [
    {
     "name": "stdout",
     "output_type": "stream",
     "text": [
      "['No' 'Yes' 'No' 'No' 'Yes' 'Yes' 'No' 'Yes' 'No' 'Yes' 'No' 'Yes' 'No'\n",
      " 'No']\n"
     ]
    }
   ],
   "source": [
    "print(y)"
   ]
  },
  {
   "cell_type": "code",
   "execution_count": 163,
   "id": "353b96c1-f256-4eb6-adc0-fdb9d11a380d",
   "metadata": {},
   "outputs": [],
   "source": [
    "from sklearn.impute import SimpleImputer\n",
    "imputer = SimpleImputer(missing_values=np.nan, strategy='mean')\n",
    "imputer.fit(x[:,1:3])\n",
    "x[:, 1:3] = imputer.transform(x[:, 1:3])"
   ]
  },
  {
   "cell_type": "code",
   "execution_count": 164,
   "id": "f3f78396-2179-4194-9690-811eafb04307",
   "metadata": {},
   "outputs": [
    {
     "name": "stdout",
     "output_type": "stream",
     "text": [
      "[['France' 44.0 72000.0]\n",
      " ['Spain' 27.0 48000.0]\n",
      " ['Germany' 30.0 54000.0]\n",
      " ['Spain' 38.0 61000.0]\n",
      " ['Germany' 40.0 56184.61538461538]\n",
      " ['France' 35.0 58000.0]\n",
      " ['Spain' 35.76923076923077 52000.0]\n",
      " ['France' 48.0 79000.0]\n",
      " ['Germany' 50.0 83000.0]\n",
      " ['France' 37.0 67000.0]\n",
      " ['Indonesia' 20.0 50000.0]\n",
      " ['France' 22.0 45000.0]\n",
      " ['Indonesia' 45.0 21400.0]\n",
      " ['Indonesia' 29.0 40000.0]]\n"
     ]
    }
   ],
   "source": [
    "print(x)"
   ]
  },
  {
   "cell_type": "code",
   "execution_count": 165,
   "id": "7bd3356a-8000-439a-aefe-3d6c2f1d5c9a",
   "metadata": {},
   "outputs": [],
   "source": [
    "from sklearn.compose import ColumnTransformer\n",
    "from sklearn.preprocessing import OneHotEncoder\n",
    "ct = ColumnTransformer(transformers=[('encoder',OneHotEncoder(),[0])], remainder='passthrough')\n",
    "x = np.array(ct.fit_transform(x))\n"
   ]
  },
  {
   "cell_type": "code",
   "execution_count": 166,
   "id": "8c0c151f-b5fc-40c4-a7b2-b6d41d5e4328",
   "metadata": {},
   "outputs": [
    {
     "name": "stdout",
     "output_type": "stream",
     "text": [
      "[[1.0 0.0 0.0 0.0 44.0 72000.0]\n",
      " [0.0 0.0 0.0 1.0 27.0 48000.0]\n",
      " [0.0 1.0 0.0 0.0 30.0 54000.0]\n",
      " [0.0 0.0 0.0 1.0 38.0 61000.0]\n",
      " [0.0 1.0 0.0 0.0 40.0 56184.61538461538]\n",
      " [1.0 0.0 0.0 0.0 35.0 58000.0]\n",
      " [0.0 0.0 0.0 1.0 35.76923076923077 52000.0]\n",
      " [1.0 0.0 0.0 0.0 48.0 79000.0]\n",
      " [0.0 1.0 0.0 0.0 50.0 83000.0]\n",
      " [1.0 0.0 0.0 0.0 37.0 67000.0]\n",
      " [0.0 0.0 1.0 0.0 20.0 50000.0]\n",
      " [1.0 0.0 0.0 0.0 22.0 45000.0]\n",
      " [0.0 0.0 1.0 0.0 45.0 21400.0]\n",
      " [0.0 0.0 1.0 0.0 29.0 40000.0]]\n"
     ]
    }
   ],
   "source": [
    "print(x)"
   ]
  },
  {
   "cell_type": "code",
   "execution_count": 167,
   "id": "4f0fe304-711f-48d8-bf7a-5b9964b42ae4",
   "metadata": {},
   "outputs": [],
   "source": [
    "from sklearn.preprocessing import LabelEncoder\n",
    "le = LabelEncoder()\n",
    "y = le.fit_transform(y)"
   ]
  },
  {
   "cell_type": "code",
   "execution_count": 168,
   "id": "9835a837-fb08-4483-b6c2-0ab3cdbb49bf",
   "metadata": {},
   "outputs": [
    {
     "name": "stdout",
     "output_type": "stream",
     "text": [
      "[0 1 0 0 1 1 0 1 0 1 0 1 0 0]\n"
     ]
    }
   ],
   "source": [
    "print(y)"
   ]
  },
  {
   "cell_type": "code",
   "execution_count": 169,
   "id": "d40066da-2dd1-4cdd-982c-d59031700af6",
   "metadata": {},
   "outputs": [],
   "source": [
    "from sklearn.model_selection import train_test_split\n",
    "x_train, x_test, y_train, y_test = train_test_split(x, y, test_size = 0.2, random_state = 1)"
   ]
  },
  {
   "cell_type": "code",
   "execution_count": 170,
   "id": "bacb030d-0345-4672-bf75-bd945f5d4268",
   "metadata": {},
   "outputs": [
    {
     "name": "stdout",
     "output_type": "stream",
     "text": [
      "[[0.0 1.0 0.0 0.0 30.0 54000.0]\n",
      " [0.0 0.0 1.0 0.0 20.0 50000.0]\n",
      " [0.0 1.0 0.0 0.0 40.0 56184.61538461538]\n",
      " [0.0 0.0 0.0 1.0 27.0 48000.0]\n",
      " [0.0 0.0 1.0 0.0 45.0 21400.0]\n",
      " [1.0 0.0 0.0 0.0 44.0 72000.0]\n",
      " [0.0 0.0 1.0 0.0 29.0 40000.0]\n",
      " [1.0 0.0 0.0 0.0 37.0 67000.0]\n",
      " [0.0 1.0 0.0 0.0 50.0 83000.0]\n",
      " [1.0 0.0 0.0 0.0 22.0 45000.0]\n",
      " [1.0 0.0 0.0 0.0 35.0 58000.0]]\n"
     ]
    }
   ],
   "source": [
    "print(x_train)"
   ]
  },
  {
   "cell_type": "code",
   "execution_count": 171,
   "id": "c3f2ea06-8b33-432a-9081-ebbda28a2c4c",
   "metadata": {},
   "outputs": [
    {
     "name": "stdout",
     "output_type": "stream",
     "text": [
      "[[0.0 0.0 0.0 1.0 38.0 61000.0]\n",
      " [1.0 0.0 0.0 0.0 48.0 79000.0]\n",
      " [0.0 0.0 0.0 1.0 35.76923076923077 52000.0]]\n"
     ]
    }
   ],
   "source": [
    "print(x_test)"
   ]
  },
  {
   "cell_type": "code",
   "execution_count": 172,
   "id": "b98e1f44-388d-4b29-adef-d1ca2f6c54ba",
   "metadata": {},
   "outputs": [
    {
     "name": "stdout",
     "output_type": "stream",
     "text": [
      "[0 0 1 1 0 0 0 1 0 1 1]\n"
     ]
    }
   ],
   "source": [
    "print(y_train)"
   ]
  },
  {
   "cell_type": "code",
   "execution_count": 173,
   "id": "2711b9e1-14c2-438f-9bfe-891020a2a38d",
   "metadata": {},
   "outputs": [
    {
     "name": "stdout",
     "output_type": "stream",
     "text": [
      "[0 1 0]\n"
     ]
    }
   ],
   "source": [
    "print(y_test)"
   ]
  },
  {
   "cell_type": "code",
   "execution_count": 174,
   "id": "2fa63f02-b592-4228-a3c6-fec03970a138",
   "metadata": {},
   "outputs": [],
   "source": [
    "from sklearn.preprocessing import StandardScaler\n",
    "sc = StandardScaler()\n",
    "x_train[:, 3:] = sc.fit_transform(x_train[:, 3:])\n",
    "x_test[:, 3:] = sc.fit_transform(x_test[:, 3:])"
   ]
  },
  {
   "cell_type": "code",
   "execution_count": 175,
   "id": "6f8ac557-e51f-4321-bede-3907812908b4",
   "metadata": {},
   "outputs": [
    {
     "name": "stdout",
     "output_type": "stream",
     "text": [
      "[[0.0 1.0 0.0 -0.316227766016838 -0.4791502965599001\n",
      "  -0.003363442280190084]\n",
      " [0.0 0.0 1.0 -0.316227766016838 -1.5547938194494721 -0.25650672968398974]\n",
      " [0.0 1.0 0.0 -0.316227766016838 0.5964932263296719 0.13489173776342347]\n",
      " [0.0 0.0 0.0 3.16227766016838 -0.8018433534267717 -0.38307837338588957]\n",
      " [0.0 0.0 1.0 -0.316227766016838 1.1343149877744578 -2.066481234621157]\n",
      " [1.0 0.0 0.0 -0.316227766016838 1.0267506354855007 1.1357813510369084]\n",
      " [0.0 0.0 1.0 -0.316227766016838 -0.5867146488488574 -0.8893649481934889]\n",
      " [1.0 0.0 0.0 -0.316227766016838 0.2738001694628003 0.8193522417821588]\n",
      " [0.0 1.0 0.0 -0.316227766016838 1.6721367492192438 1.8319253913973574]\n",
      " [1.0 0.0 0.0 -0.316227766016838 -1.3396651148715577 -0.5729358389387393]\n",
      " [1.0 0.0 0.0 -0.316227766016838 0.058671464884885886 0.24977984512360957]]\n"
     ]
    }
   ],
   "source": [
    "print(x_train)"
   ]
  },
  {
   "cell_type": "code",
   "execution_count": 195,
   "id": "4cfc3945-b59e-47ac-b003-af94206dc1f3",
   "metadata": {},
   "outputs": [
    {
     "name": "stdout",
     "output_type": "stream",
     "text": [
      "[[0.0 0.0 0.0 0.7071067811865476 -0.4869407000953254 -0.2672612419124244]\n",
      " [1.0 0.0 0.0 -1.414213562373095 1.3933253695796926 1.3363062095621219]\n",
      " [0.0 0.0 0.0 0.7071067811865476 -0.9063846694843684 -1.0690449676496976]]\n"
     ]
    }
   ],
   "source": [
    "print(x_test)"
   ]
  }
 ],
 "metadata": {
  "kernelspec": {
   "display_name": "Python 3 (ipykernel)",
   "language": "python",
   "name": "python3"
  },
  "language_info": {
   "codemirror_mode": {
    "name": "ipython",
    "version": 3
   },
   "file_extension": ".py",
   "mimetype": "text/x-python",
   "name": "python",
   "nbconvert_exporter": "python",
   "pygments_lexer": "ipython3",
   "version": "3.11.7"
  }
 },
 "nbformat": 4,
 "nbformat_minor": 5
}
